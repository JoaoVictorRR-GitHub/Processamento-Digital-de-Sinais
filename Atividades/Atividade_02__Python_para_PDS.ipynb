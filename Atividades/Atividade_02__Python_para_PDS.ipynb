{
  "nbformat": 4,
  "nbformat_minor": 0,
  "metadata": {
    "colab": {
      "provenance": [],
      "collapsed_sections": [
        "eMd2_l922gys",
        "xSETgite3DEc",
        "d7AGakgHDsIO",
        "oB9RJNWUaWfa",
        "0CTec1pXbhQ5",
        "LrvLJUlslpnI",
        "_CekHUm3bFb7",
        "MPpZn9G5c8os",
        "Sfuo0Njfdqyt",
        "n96NLYMkzopv",
        "HaOtR2G909UM",
        "eKqQmlgZ39Kd",
        "aZx3uWqz7mWF",
        "SvNvI22Y77vI",
        "0WtHhN6fTOP1",
        "i4VR13_YhlnY"
      ]
    },
    "kernelspec": {
      "name": "python3",
      "display_name": "Python 3"
    },
    "language_info": {
      "name": "python"
    }
  },
  "cells": [
    {
      "cell_type": "markdown",
      "source": [
        "**Universidade Federal do Espírito Santo** (Ufes)\n",
        "\n",
        "**Centro Universitário Norte do Espírito Santo** (Ceunes)\n",
        "\n",
        "---\n",
        "\n",
        "**Processamento Digital de Sinais**\n",
        "\n",
        "**Atividade 02:** Python para PDS\n",
        "\n",
        "**Aluno:** João Victor do Rozário Recla"
      ],
      "metadata": {
        "id": "i5m5iHyQ2bLX"
      }
    },
    {
      "cell_type": "markdown",
      "source": [
        "# **Exercício 01 - Geração de Vetores e Matrizes com a biblioteca Numpy**\n",
        "\n",
        "---"
      ],
      "metadata": {
        "id": "eMd2_l922gys"
      }
    },
    {
      "cell_type": "code",
      "source": [
        "import numpy as Np"
      ],
      "metadata": {
        "id": "bMaqQAmi3moO"
      },
      "execution_count": 2,
      "outputs": []
    },
    {
      "cell_type": "markdown",
      "source": [
        "#### Questao 1.A) - Criar Matriz identidade de ordem N"
      ],
      "metadata": {
        "id": "xSETgite3DEc"
      }
    },
    {
      "cell_type": "code",
      "execution_count": null,
      "metadata": {
        "id": "5UNbvZ5v2Fak"
      },
      "outputs": [],
      "source": [
        "def Gerar_Matriz_Identidade_(Ordem = 1):\n",
        "  \"\"\"\n",
        "  Funcao para gerar uma matriz identidade de ordem N.\n",
        "\n",
        "  Entrada:  Ordem da matriz.\n",
        "  Saida:    Matriz identidade de ordem N.\n",
        "  \"\"\"\n",
        "  return Np.eye(Ordem, dtype = Np.int64)"
      ]
    },
    {
      "cell_type": "code",
      "source": [
        "# Teste da funcao.\n",
        "print(Gerar_Matriz_Identidade_.__doc__)\n",
        "\n",
        "Ordem_01 = 2\n",
        "Ordem_02 = 3\n",
        "\n",
        "Matriz_ID_01 = Gerar_Matriz_Identidade_(Ordem_01)\n",
        "Matriz_ID_02 = Gerar_Matriz_Identidade_(Ordem_02)\n",
        "\n",
        "print(f\"\\nMatriz identidade de ordem {Ordem_01:02d}: \\n\\n\", Matriz_ID_01)\n",
        "print(f\"\\nMatriz identidade de ordem {Ordem_02:02d}: \\n\\n\", Matriz_ID_02)"
      ],
      "metadata": {
        "colab": {
          "base_uri": "https://localhost:8080/"
        },
        "id": "rHOMLxrj1ZeV",
        "outputId": "b69dec58-abbd-4eba-c533-536b9cab3d69"
      },
      "execution_count": null,
      "outputs": [
        {
          "output_type": "stream",
          "name": "stdout",
          "text": [
            "\n",
            "  Funcao para gerar uma matriz identidade de ordem N.\n",
            "\n",
            "  Entrada:  Ordem da matriz.\n",
            "  Saida:    Matriz identidade de ordem N.\n",
            "  \n",
            "\n",
            "Matriz identidade de ordem 02: \n",
            "\n",
            " [[1 0]\n",
            " [0 1]]\n",
            "\n",
            "Matriz identidade de ordem 03: \n",
            "\n",
            " [[1 0 0]\n",
            " [0 1 0]\n",
            " [0 0 1]]\n"
          ]
        }
      ]
    },
    {
      "cell_type": "markdown",
      "source": [
        "#### Questao 1.B) - Gerar Matriz ou Vetor de zeros de ordem N"
      ],
      "metadata": {
        "id": "d7AGakgHDsIO"
      }
    },
    {
      "cell_type": "code",
      "source": [
        "def Gerar_Matriz_Zeros_(Ordem = 1, Dimensao_2D = False):\n",
        "  \"\"\"\n",
        "  Funcao para gerar uma matriz de zeros,\n",
        "  de ordem N, com dimensoes 1D ou 2D.\n",
        "\n",
        "  Entrada:\n",
        "    - Ordem da matriz.\n",
        "    - Dimensao da matriz (Lista == False, Matriz == True).\n",
        "  Saida:\n",
        "    - Matriz de zeros (1D ou 2D) de ordem N.\n",
        "  \"\"\"\n",
        "  if(Dimensao_2D == False):\n",
        "    return Np.zeros(Ordem, dtype = Np.int64)            # Lista (1D)\n",
        "  else:\n",
        "    return Np.zeros((Ordem, Ordem), dtype = Np.int64)   # Matriz (2D)"
      ],
      "metadata": {
        "id": "BBTIV6ViD0qO"
      },
      "execution_count": null,
      "outputs": []
    },
    {
      "cell_type": "code",
      "source": [
        "# Teste da funcao.\n",
        "print(Gerar_Matriz_Zeros_.__doc__)\n",
        "\n",
        "List   = False\n",
        "Matrix = True\n",
        "\n",
        "Ordem  = 3\n",
        "Lista  = Gerar_Matriz_Zeros_(Ordem, List)\n",
        "Matriz = Gerar_Matriz_Zeros_(Ordem, Matrix)\n",
        "\n",
        "print(f\"\\nMatriz de zeros 1D de ordem {Ordem:02d}:  \\n\\n\", Lista)\n",
        "print(f\"\\nMatriz de zeros 2D de ordem {Ordem:02d}:  \\n\\n\", Matriz)"
      ],
      "metadata": {
        "colab": {
          "base_uri": "https://localhost:8080/"
        },
        "id": "dtW5zmD24ULD",
        "outputId": "e7f0016e-6ee8-45fa-de6b-df8455e3f496"
      },
      "execution_count": null,
      "outputs": [
        {
          "output_type": "stream",
          "name": "stdout",
          "text": [
            "\n",
            "  Funcao para gerar uma matriz de zeros,\n",
            "  de ordem N, com dimensoes 1D ou 2D.\n",
            "\n",
            "  Entrada:\n",
            "    - Ordem da matriz.\n",
            "    - Dimensao da matriz (Lista == False, Matriz == True).\n",
            "  Saida:\n",
            "    - Matriz de zeros (1D ou 2D) de ordem N.\n",
            "  \n",
            "\n",
            "Matriz de zeros 1D de ordem 03:  \n",
            "\n",
            " [0 0 0]\n",
            "\n",
            "Matriz de zeros 2D de ordem 03:  \n",
            "\n",
            " [[0 0 0]\n",
            " [0 0 0]\n",
            " [0 0 0]]\n"
          ]
        }
      ]
    },
    {
      "cell_type": "markdown",
      "source": [
        "#### Questao 1.C) - Gerar Matriz ou Vetor de uns de ordem N"
      ],
      "metadata": {
        "id": "oB9RJNWUaWfa"
      }
    },
    {
      "cell_type": "code",
      "source": [
        "def Gerar_Matriz_Uns_(Ordem = 1, Dimensao_2D = False):\n",
        "  \"\"\"\n",
        "  Funcao para gerar uma matriz de uns,\n",
        "  de ordem N, com dimensao 1D ou 2D.\n",
        "\n",
        "  Entrada:\n",
        "    - Ordem da matriz.\n",
        "    - Dimensao da matriz (Lista == False, Matriz == True).\n",
        "  Saida:\n",
        "    - Matriz de uns (1D ou 2D) de ordem N.\n",
        "  \"\"\"\n",
        "  if(Dimensao_2D == False):\n",
        "    return Np.ones(Ordem, dtype = Np.int64)            # Lista (1D)\n",
        "  else:\n",
        "    return Np.ones((Ordem, Ordem), dtype = Np.int64)   # Matriz (2D)"
      ],
      "metadata": {
        "id": "bJ-jdf82YV2A"
      },
      "execution_count": null,
      "outputs": []
    },
    {
      "cell_type": "code",
      "source": [
        "# Teste da funcao.\n",
        "print(Gerar_Matriz_Uns_.__doc__)\n",
        "\n",
        "List   = False\n",
        "Matrix = True\n",
        "\n",
        "Ordem  = 3\n",
        "Lista  = Gerar_Matriz_Uns_(Ordem, List)\n",
        "Matriz = Gerar_Matriz_Uns_(Ordem, Matrix)\n",
        "\n",
        "print(f\"\\nMatriz de uns 1D de ordem {Ordem:02d}:  \\n\\n\", Lista)\n",
        "print(f\"\\nMatriz de uns 2D de ordem {Ordem:02d}:  \\n\\n\", Matriz)"
      ],
      "metadata": {
        "colab": {
          "base_uri": "https://localhost:8080/"
        },
        "id": "w8NxcMct6o9T",
        "outputId": "9dd04774-9ecf-4afe-c639-e144a113efbc"
      },
      "execution_count": null,
      "outputs": [
        {
          "output_type": "stream",
          "name": "stdout",
          "text": [
            "\n",
            "  Funcao para gerar uma matriz de uns,\n",
            "  de ordem N, com dimensao 1D ou 2D.\n",
            "\n",
            "  Entrada:\n",
            "    - Ordem da matriz.\n",
            "    - Dimensao da matriz (Lista == False, Matriz == True).\n",
            "  Saida:\n",
            "    - Matriz de uns (1D ou 2D) de ordem N.\n",
            "  \n",
            "\n",
            "Matriz de uns 1D de ordem 03:  \n",
            "\n",
            " [1 1 1]\n",
            "\n",
            "Matriz de uns 2D de ordem 03:  \n",
            "\n",
            " [[1 1 1]\n",
            " [1 1 1]\n",
            " [1 1 1]]\n"
          ]
        }
      ]
    },
    {
      "cell_type": "markdown",
      "source": [
        "#### Questao 1.D) - Gerar Vetor com valores regularmente espaçados"
      ],
      "metadata": {
        "id": "0CTec1pXbhQ5"
      }
    },
    {
      "cell_type": "code",
      "source": [
        "def Gerar_Vetor_Espacado_(Inicio, Fim, Num_elementos = 2):\n",
        "  \"\"\"\n",
        "  Funcao para gerar um vetor linearmente espacado.\n",
        "\n",
        "  Entrada:\n",
        "    - Valor inicial do intervalo.\n",
        "    - Valor final do intervalo.\n",
        "    - Numero de elementos do intervalo.\n",
        "  Saida:\n",
        "    - Vetor linearmente espacado.\n",
        "  \"\"\"\n",
        "  return Np.linspace(Inicio, Fim, Num_elementos)"
      ],
      "metadata": {
        "id": "1IpF2PyybwDV"
      },
      "execution_count": 5,
      "outputs": []
    },
    {
      "cell_type": "code",
      "source": [
        "# Teste da funcao.\n",
        "print(Gerar_Vetor_Espacado_.__doc__)\n",
        "\n",
        "Inicio    = 1\n",
        "Fim       = 10\n",
        "Elementos = 7\n",
        "\n",
        "Vetor = Gerar_Vetor_Espacado_(Inicio, Fim, Elementos)\n",
        "print(\"\\nVetor espacado:  \\n\\n\", Vetor)"
      ],
      "metadata": {
        "colab": {
          "base_uri": "https://localhost:8080/"
        },
        "id": "2dRXdD0269lR",
        "outputId": "5d5eb5ae-0da2-43f9-b6ce-96ab0472bbf9"
      },
      "execution_count": null,
      "outputs": [
        {
          "output_type": "stream",
          "name": "stdout",
          "text": [
            "\n",
            "  Funcao para gerar um vetor linearmente espacado.\n",
            "\n",
            "  Entrada:\n",
            "    - Valor inicial do intervalo.\n",
            "    - Valor final do intervalo.\n",
            "    - Numero de elementos do intervalo.\n",
            "  Saida:\n",
            "    - Vetor linearmente espacado.\n",
            "  \n",
            "\n",
            "Vetor espacado:  \n",
            "\n",
            " [ 1.   2.5  4.   5.5  7.   8.5 10. ]\n"
          ]
        }
      ]
    },
    {
      "cell_type": "markdown",
      "source": [
        "#### Questao 1.E) - Gerar Vetor com elementos da diagonal de uma Matriz"
      ],
      "metadata": {
        "id": "LrvLJUlslpnI"
      }
    },
    {
      "cell_type": "code",
      "source": [
        "def Gerar_Vetor_Diagonal_(Matriz):\n",
        "  \"\"\"\n",
        "  Funcao para gerar um vetor contendo os\n",
        "  valores da diagonal de uma matriz.\n",
        "\n",
        "  Entrada:  Matriz.\n",
        "  Saida:    Vetor com os valores da diagonal da matriz.\n",
        "  \"\"\"\n",
        "  return Np.diag(Matriz)"
      ],
      "metadata": {
        "id": "NncwcDsil2MA"
      },
      "execution_count": null,
      "outputs": []
    },
    {
      "cell_type": "code",
      "source": [
        "# Teste da funcao.\n",
        "print(Gerar_Vetor_Diagonal_.__doc__)\n",
        "\n",
        "Matriz_01 = [[1, 0, 0], [0, 2, 0], [0, 0, 3]]\n",
        "Matriz_02 = [[5, 0, 0], [0, 6, 0], [0, 0, 7]]\n",
        "Matriz_03 = [[4, 0, 0], [0, 8, 0], [0, 0, 5]]\n",
        "\n",
        "print(\"\\nVetor 01:  \\n\\n\", Gerar_Vetor_Diagonal_(Matriz_01))\n",
        "print(\"\\nVetor 02:  \\n\\n\", Gerar_Vetor_Diagonal_(Matriz_02))\n",
        "print(\"\\nVetor 03:  \\n\\n\", Gerar_Vetor_Diagonal_(Matriz_03))"
      ],
      "metadata": {
        "colab": {
          "base_uri": "https://localhost:8080/"
        },
        "id": "qybs-WUK8peS",
        "outputId": "6c081c60-1122-4a53-ec2c-42a704542b20"
      },
      "execution_count": null,
      "outputs": [
        {
          "output_type": "stream",
          "name": "stdout",
          "text": [
            "\n",
            "  Funcao para gerar um vetor contendo os\n",
            "  valores da diagonal de uma matriz.\n",
            "\n",
            "  Entrada:  Matriz.\n",
            "  Saida:    Vetor com os valores da diagonal da matriz.\n",
            "  \n",
            "\n",
            "Vetor 01:  \n",
            "\n",
            " [1 2 3]\n",
            "\n",
            "Vetor 02:  \n",
            "\n",
            " [5 6 7]\n",
            "\n",
            "Vetor 03:  \n",
            "\n",
            " [4 8 5]\n"
          ]
        }
      ]
    },
    {
      "cell_type": "markdown",
      "source": [
        "#### Questao 1.F) - Gerar Matriz diagonal com elementos de um Vetor"
      ],
      "metadata": {
        "id": "_CekHUm3bFb7"
      }
    },
    {
      "cell_type": "code",
      "source": [
        "def Gerar_Matriz_Diagonal_(Vetor):\n",
        "  \"\"\"\n",
        "  Funcao para gerar uma matriz contendo os\n",
        "  elementos de um vetor em sua diagonal.\n",
        "\n",
        "  Entrada:  Vetor.\n",
        "  Saida:    Matriz diagonal com os elementos do vetor.\n",
        "  \"\"\"\n",
        "  return Np.diag(Vetor)"
      ],
      "metadata": {
        "id": "yrYxqMmabOYv"
      },
      "execution_count": null,
      "outputs": []
    },
    {
      "cell_type": "code",
      "source": [
        "# Teste da funcao.\n",
        "print(Gerar_Matriz_Diagonal_.__doc__)\n",
        "\n",
        "Vetor_01 = [1, 2, 3]\n",
        "Vetor_02 = [5, 6, 7]\n",
        "Vetor_03 = [4, 8, 5]\n",
        "\n",
        "print(\"\\nMatriz 01: \\n\\n\", Gerar_Matriz_Diagonal_(Vetor_01))\n",
        "print(\"\\nMatriz 02: \\n\\n\", Gerar_Matriz_Diagonal_(Vetor_02))\n",
        "print(\"\\nMatriz 03: \\n\\n\", Gerar_Matriz_Diagonal_(Vetor_03))"
      ],
      "metadata": {
        "colab": {
          "base_uri": "https://localhost:8080/"
        },
        "id": "dhhu50bo8-0L",
        "outputId": "46be742a-be82-4914-ff66-2edfa36160e2"
      },
      "execution_count": null,
      "outputs": [
        {
          "output_type": "stream",
          "name": "stdout",
          "text": [
            "\n",
            "  Funcao para gerar uma matriz contendo os\n",
            "  elementos de um vetor em sua diagonal.\n",
            "\n",
            "  Entrada:  Vetor.\n",
            "  Saida:    Matriz diagonal com os elementos do vetor.\n",
            "  \n",
            "\n",
            "Matriz 01: \n",
            "\n",
            " [[1 0 0]\n",
            " [0 2 0]\n",
            " [0 0 3]]\n",
            "\n",
            "Matriz 02: \n",
            "\n",
            " [[5 0 0]\n",
            " [0 6 0]\n",
            " [0 0 7]]\n",
            "\n",
            "Matriz 03: \n",
            "\n",
            " [[4 0 0]\n",
            " [0 8 0]\n",
            " [0 0 5]]\n"
          ]
        }
      ]
    },
    {
      "cell_type": "markdown",
      "source": [
        "# **Exercício 02 - Operação com Vetores e Matrizes com a biblioteca Numpy**\n",
        "\n",
        "---"
      ],
      "metadata": {
        "id": "MPpZn9G5c8os"
      }
    },
    {
      "cell_type": "code",
      "source": [
        "import numpy as Np"
      ],
      "metadata": {
        "id": "U_Q-Ya3hdeDp"
      },
      "execution_count": null,
      "outputs": []
    },
    {
      "cell_type": "markdown",
      "source": [
        "#### Questao 2.A) - Somar dois Vetores ou Matrizes"
      ],
      "metadata": {
        "id": "Sfuo0Njfdqyt"
      }
    },
    {
      "cell_type": "code",
      "source": [
        "def Somar_Matrizes_(Matriz_A, Matriz_B):\n",
        "  \"\"\"\n",
        "  Funcao para somar dois vetores ou matrizes.\n",
        "\n",
        "  Entrada:\n",
        "    - Matriz, ou vetor, A.\n",
        "    - Matriz, ou vetor, B.\n",
        "  Saida:\n",
        "    - Soma das matrizes.\n",
        "  \"\"\"\n",
        "  try:\n",
        "    return (Matriz_A + Matriz_B)\n",
        "  except:\n",
        "    print(\"\\n\\n----- ! ERRO ! -----\")\n",
        "    print(\"Soma de matrizes com dimensoes diferentes !\")\n",
        "    print(\"----- ! ERRO ! -----\\n\\n\")"
      ],
      "metadata": {
        "id": "UrzHY65idx-R"
      },
      "execution_count": null,
      "outputs": []
    },
    {
      "cell_type": "code",
      "source": [
        "# Teste da funcao.\n",
        "print(Somar_Matrizes_.__doc__)\n",
        "\n",
        "Matriz_A = Np.random.random((3, 3))     # Matriz 2D (N = 3)\n",
        "Matriz_B = Np.random.random(2)          # Matriz 1D (N = 2)\n",
        "\n",
        "print(\"\\nMatriz A:  \\n\\n\", Matriz_A)\n",
        "print(\"\\nMatriz B:  \\n\\n\", Matriz_B)\n",
        "\n",
        "Matriz = Somar_Matrizes_(Matriz_A, Matriz_B)\n",
        "print(\"\\nSoma das matrizes: \\n\\n\", Matriz)"
      ],
      "metadata": {
        "colab": {
          "base_uri": "https://localhost:8080/"
        },
        "id": "qjUnXq399Wra",
        "outputId": "3279ce6c-15f8-46cc-935c-46ac86082486"
      },
      "execution_count": null,
      "outputs": [
        {
          "output_type": "stream",
          "name": "stdout",
          "text": [
            "\n",
            "  Funcao para somar dois vetores ou matrizes.\n",
            "\n",
            "  Entrada:\n",
            "    - Matriz, ou vetor, A.\n",
            "    - Matriz, ou vetor, B.\n",
            "  Saida:\n",
            "    - Soma das matrizes.\n",
            "  \n",
            "\n",
            "Matriz A:  \n",
            "\n",
            " [[0.62119903 0.54881426 0.1019599 ]\n",
            " [0.71227328 0.73183623 0.75798976]\n",
            " [0.14681213 0.20060959 0.70666072]]\n",
            "\n",
            "Matriz B:  \n",
            "\n",
            " [0.85069144 0.32944972]\n",
            "\n",
            "\n",
            "----- ! ERRO ! -----\n",
            "Soma de matrizes com dimensoes diferentes !\n",
            "----- ! ERRO ! -----\n",
            "\n",
            "\n",
            "\n",
            "Soma das matrizes: \n",
            "\n",
            " None\n"
          ]
        }
      ]
    },
    {
      "cell_type": "markdown",
      "source": [
        "#### Questao 2.B) - Subtrair dois Vetores ou Matrizes"
      ],
      "metadata": {
        "id": "n96NLYMkzopv"
      }
    },
    {
      "cell_type": "code",
      "source": [
        "def Subtrair_Matrizes_(Matriz_A, Matriz_B):\n",
        "  \"\"\"\n",
        "  Funcao para subtrair dois vetores ou matrizes.\n",
        "\n",
        "  Entrada:\n",
        "    - Matriz, ou vetor, A.\n",
        "    - Matriz, ou vetor, B.\n",
        "  Saida:\n",
        "    - Diferenca das matrizes.\n",
        "  \"\"\"\n",
        "  try:\n",
        "    return (Matriz_A - Matriz_B)\n",
        "  except:\n",
        "    print(\"\\n\\n----- ! ERRO ! -----\")\n",
        "    print(\"Subtracao de matrizes com dimensoes diferentes !\")\n",
        "    print(\"----- ! ERRO ! -----\\n\\n\")"
      ],
      "metadata": {
        "id": "tXfJcoc1ztyD"
      },
      "execution_count": null,
      "outputs": []
    },
    {
      "cell_type": "code",
      "source": [
        "# Teste da funcao.\n",
        "print(Subtrair_Matrizes_.__doc__)\n",
        "\n",
        "Matriz_A = Np.random.random((3, 3))     # Matriz 2D (N = 3)\n",
        "Matriz_B = Np.random.random(3)          # Matriz 1D (N = 3)\n",
        "\n",
        "print(\"\\nMatriz A:  \\n\\n\", Matriz_A)\n",
        "print(\"\\nMatriz B:  \\n\\n\", Matriz_B)\n",
        "\n",
        "Matriz = Subtrair_Matrizes_(Matriz_A, Matriz_B)\n",
        "print(\"\\nSubtracao das matrizes:  \\n\\n\", Matriz)"
      ],
      "metadata": {
        "colab": {
          "base_uri": "https://localhost:8080/"
        },
        "id": "0T2y2Ibg-PuZ",
        "outputId": "70d243f1-2b0b-489d-b9fe-eb526eafe902"
      },
      "execution_count": null,
      "outputs": [
        {
          "output_type": "stream",
          "name": "stdout",
          "text": [
            "\n",
            "  Funcao para subtrair dois vetores ou matrizes.\n",
            "\n",
            "  Entrada:\n",
            "    - Matriz, ou vetor, A.\n",
            "    - Matriz, ou vetor, B.\n",
            "  Saida:\n",
            "    - Diferenca das matrizes.\n",
            "  \n",
            "\n",
            "Matriz A:  \n",
            "\n",
            " [[0.77106532 0.99182466 0.70687795]\n",
            " [0.25607029 0.55336984 0.06368736]\n",
            " [0.74020459 0.54158488 0.92349642]]\n",
            "\n",
            "Matriz B:  \n",
            "\n",
            " [0.18678352 0.1857008  0.67988243]\n",
            "\n",
            "Subtracao das matrizes:  \n",
            "\n",
            " [[ 0.58428179  0.80612386  0.02699552]\n",
            " [ 0.06928676  0.36766904 -0.61619507]\n",
            " [ 0.55342106  0.35588408  0.243614  ]]\n"
          ]
        }
      ]
    },
    {
      "cell_type": "markdown",
      "source": [
        "#### Questao 2.C) - Calcular o produto escalar de dois Vetores ou Matrizes"
      ],
      "metadata": {
        "id": "HaOtR2G909UM"
      }
    },
    {
      "cell_type": "code",
      "source": [
        "def Calcular_Produto_Escalar_(Matriz_A, Matriz_B):\n",
        "  \"\"\"\n",
        "  Funcao para calcular o produto escalar\n",
        "  de dois vetores ou matrizes.\n",
        "\n",
        "  Entrada:\n",
        "    - Matriz, ou vetor, A.\n",
        "    - Matriz, ou vetor, B.\n",
        "  Saida:\n",
        "    - Produto escalar das matrizes.\n",
        "  \"\"\"\n",
        "  try:\n",
        "    return Matriz_A.dot(Matriz_B)\n",
        "  except:\n",
        "    print(\"\\n\\n----- ! ERRO ! -----\")\n",
        "    print(\"Produto escalar de matrizes com dimensoes diferentes !\")\n",
        "    print(\"----- ! ERRO ! -----\\n\\n\")"
      ],
      "metadata": {
        "id": "Z7QUFV3y11Zp"
      },
      "execution_count": null,
      "outputs": []
    },
    {
      "cell_type": "code",
      "source": [
        "# Teste da funcao.\n",
        "print(Calcular_Produto_Escalar_.__doc__)\n",
        "\n",
        "Matriz_A = Np.random.random((3, 3))     # Matriz 2D (N = 3)\n",
        "Matriz_B = Np.random.random((3, 2))     # Matriz 2D (N = 3, M = 2)\n",
        "\n",
        "print(\"\\nMatriz A:  \\n\\n\", Matriz_A)\n",
        "print(\"\\nMatriz B:  \\n\\n\", Matriz_B)\n",
        "\n",
        "Matriz = Calcular_Produto_Escalar_(Matriz_A, Matriz_B)\n",
        "print(\"\\nProduto escalar das matrizes:  \\n\\n\", Matriz)"
      ],
      "metadata": {
        "colab": {
          "base_uri": "https://localhost:8080/"
        },
        "id": "7B0ge0Hl-waJ",
        "outputId": "366a2842-60ab-4c41-d847-20de880eb2d0"
      },
      "execution_count": null,
      "outputs": [
        {
          "output_type": "stream",
          "name": "stdout",
          "text": [
            "\n",
            "  Funcao para calcular o produto escalar\n",
            "  de dois vetores ou matrizes.\n",
            "\n",
            "  Entrada:\n",
            "    - Matriz, ou vetor, A.\n",
            "    - Matriz, ou vetor, B.\n",
            "  Saida:\n",
            "    - Produto escalar das matrizes.\n",
            "  \n",
            "\n",
            "Matriz A:  \n",
            "\n",
            " [[0.25292374 0.23675883 0.80295953]\n",
            " [0.70195934 0.67602953 0.2005388 ]\n",
            " [0.73538891 0.78202462 0.93681682]]\n",
            "\n",
            "Matriz B:  \n",
            "\n",
            " [[0.2962563  0.82259563]\n",
            " [0.73298228 0.76072541]\n",
            " [0.41725074 0.60570718]]\n",
            "\n",
            "Produto escalar das matrizes:  \n",
            "\n",
            " [[0.58350574 0.87452077]\n",
            " [0.78715251 1.21316932]\n",
            " [1.1819613  1.76727037]]\n"
          ]
        }
      ]
    },
    {
      "cell_type": "markdown",
      "source": [
        "#### Questao 2.D) - Calcular o exponencial de dois Vetores ou Matrizes"
      ],
      "metadata": {
        "id": "eKqQmlgZ39Kd"
      }
    },
    {
      "cell_type": "code",
      "source": [
        "def Calcular_Exponencial_(Matriz):\n",
        "  \"\"\"\n",
        "  Funcao para calcular o exponencial\n",
        "  de um vetor ou matriz.\n",
        "\n",
        "  Entrada:  Matriz ou Vetor.\n",
        "  Saida:    Exponencial da matriz.\n",
        "  \"\"\"\n",
        "  try:\n",
        "    return Np.exp(Matriz)\n",
        "  except:\n",
        "    print(\"\\n----- ! ERRO ! -----\\n\")"
      ],
      "metadata": {
        "id": "jFk8Yft04Bx1"
      },
      "execution_count": null,
      "outputs": []
    },
    {
      "cell_type": "code",
      "source": [
        "# Teste da funcao.\n",
        "print(Calcular_Exponencial_.__doc__)\n",
        "\n",
        "Matriz_A = Np.random.random((5, 5))\n",
        "print(\"\\nMatriz:  \\n\\n\", Matriz_A)\n",
        "\n",
        "Matriz = Calcular_Exponencial_(Matriz_A)\n",
        "print(\"\\nExponencial da matriz: \\n\\n\", Matriz)"
      ],
      "metadata": {
        "colab": {
          "base_uri": "https://localhost:8080/"
        },
        "id": "s7AKnSsG_Git",
        "outputId": "8598bd2e-d672-4c62-c054-580cd88ab31b"
      },
      "execution_count": null,
      "outputs": [
        {
          "output_type": "stream",
          "name": "stdout",
          "text": [
            "\n",
            "  Funcao para calcular o exponencial\n",
            "  de um vetor ou matriz.\n",
            "\n",
            "  Entrada:  Matriz ou Vetor.\n",
            "  Saida:    Exponencial da matriz.\n",
            "  \n",
            "\n",
            "Matriz:  \n",
            "\n",
            " [[0.79944548 0.76832552 0.63763348 0.56510567 0.17864411]\n",
            " [0.8677903  0.54473625 0.77764286 0.94708133 0.73024545]\n",
            " [0.18307734 0.53313314 0.56580553 0.41947182 0.49471102]\n",
            " [0.41972967 0.90824673 0.22823077 0.22865898 0.15660303]\n",
            " [0.22859461 0.28911543 0.44074732 0.05313741 0.27048579]]\n",
            "\n",
            "Exponencial da matriz: \n",
            "\n",
            " [[2.22430717 2.15615279 1.89199813 1.75963371 1.19559517]\n",
            " [2.38164233 1.72415357 2.17633629 2.57817382 2.07559   ]\n",
            " [1.20090729 1.70426365 1.76086564 1.52115789 1.64002424]\n",
            " [1.52155018 2.47997067 1.25637523 1.25691334 1.16953126]\n",
            " [1.25683243 1.33524585 1.55386802 1.05457454 1.31060098]]\n"
          ]
        }
      ]
    },
    {
      "cell_type": "markdown",
      "source": [
        "# **Exercício 03 - Geração e Visualização de sinais Senoidas (Cossenoidais)**\n",
        "\n",
        "---"
      ],
      "metadata": {
        "id": "aZx3uWqz7mWF"
      }
    },
    {
      "cell_type": "code",
      "source": [
        "import math as Mt\n",
        "import numpy as Np\n",
        "import matplotlib.pyplot as Graph"
      ],
      "metadata": {
        "id": "unYSZFrW7low"
      },
      "execution_count": 6,
      "outputs": []
    },
    {
      "cell_type": "markdown",
      "source": [
        "#### Questao 3.A) - Gerar um Sinal Senoidal"
      ],
      "metadata": {
        "id": "SvNvI22Y77vI"
      }
    },
    {
      "cell_type": "code",
      "source": [
        "def Gerar_Sinal_Senoidal_(Inicio, Fim, Freq = 15):\n",
        "  \"\"\"\n",
        "  Funcao para gerar um sinal senoidal.\n",
        "\n",
        "  Entrada:\n",
        "    - Intervalo inicial do sinal.\n",
        "    - Intervalo final do sinal.\n",
        "    - Frequencia da onda (Hz).\n",
        "  Saida:\n",
        "    - Tupla contendo o tempo de amostragem do sinal e o sinal senoidal.\n",
        "  \"\"\"\n",
        "\n",
        "  Y  = []\n",
        "  PI = Mt.pi\n",
        "  \n",
        "  Freq_s = (Freq *10)                                   # Frequencia de amostragem do sinal\n",
        "  X      = Gerar_Vetor_Espacado_(Inicio, Fim, Freq_s)   # Tempo de amostragem do sinal\n",
        "  \n",
        "  # Loop para gerar o sinal.\n",
        "  for i in range(X.size):\n",
        "    Y.append(2 * Mt.cos(2 * PI * Freq * X[i]))\n",
        "  \n",
        "  return (X, Y)"
      ],
      "metadata": {
        "id": "vtXvteYJ9aP-"
      },
      "execution_count": 7,
      "outputs": []
    },
    {
      "cell_type": "code",
      "source": [
        "# Teste da funcao.\n",
        "print(Gerar_Sinal_Senoidal_.__doc__)\n",
        "X, Y = Gerar_Sinal_Senoidal_(-0.0167, 0.1167) # Sinal senoidal com dois periodos.\n",
        "\n",
        "Graph.plot(X, Y)\n",
        "Graph.axhline()   # Linha do eixo X.\n",
        "Graph.axvline()   # Linha do eixo Y."
      ],
      "metadata": {
        "colab": {
          "base_uri": "https://localhost:8080/",
          "height": 456
        },
        "id": "YswrrGTl_3W5",
        "outputId": "002e3f22-b525-4349-a6dd-ffaadb5a6d61"
      },
      "execution_count": 8,
      "outputs": [
        {
          "output_type": "stream",
          "name": "stdout",
          "text": [
            "\n",
            "  Funcao para gerar um sinal senoidal.\n",
            "\n",
            "  Entrada:\n",
            "    - Intervalo inicial do sinal.\n",
            "    - Intervalo final do sinal.\n",
            "    - Frequencia da onda (Hz).\n",
            "  Saida:\n",
            "    - Tupla contendo o tempo de amostragem do sinal e o sinal senoidal.\n",
            "  \n"
          ]
        },
        {
          "output_type": "execute_result",
          "data": {
            "text/plain": [
              "<matplotlib.lines.Line2D at 0x7fe492d7e6d0>"
            ]
          },
          "metadata": {},
          "execution_count": 8
        },
        {
          "output_type": "display_data",
          "data": {
            "text/plain": [
              "<Figure size 432x288 with 1 Axes>"
            ],
            "image/png": "[encoded data removed]"
          },
          "metadata": {
            "needs_background": "light"
          }
        }
      ]
    },
    {
      "cell_type": "markdown",
      "source": [
        "#### Questao 3.B) - Determinar o valor Máximo e Minímo de uma função"
      ],
      "metadata": {
        "id": "0WtHhN6fTOP1"
      }
    },
    {
      "cell_type": "code",
      "source": [
        "def Max_Min_(Y):\n",
        "  \"\"\"\n",
        "  Funcao para encontrar o valor\n",
        "  maximo e minimo de uma funcao.\n",
        "\n",
        "  Entrada:  Valores da funcao (Y).\n",
        "  Saida:    Valor maximo e minimo de Y. \n",
        "  \"\"\"\n",
        "\n",
        "  Max = Np.max(Y)\n",
        "  Min = Np.min(Y)\n",
        "  \n",
        "  return (Max, Min)"
      ],
      "metadata": {
        "id": "53f1d6N4clmZ"
      },
      "execution_count": 9,
      "outputs": []
    },
    {
      "cell_type": "code",
      "source": [
        "# Teste da funcao.\n",
        "print(Max_Min_.__doc__)\n",
        "X, Y = Gerar_Sinal_Senoidal_(-0.0167, 0.1167) # Sinal senoidal com dois periodos.\n",
        "\n",
        "Max, Min = Max_Min_(Y)\n",
        "\n",
        "# Plot da funcao Senoide.\n",
        "Graph.plot(X, Y)\n",
        "Graph.axhline()   # Linha do eixo X.\n",
        "Graph.axvline()   # Linha do eixo Y.\n",
        "\n",
        "# Plot do ponto maximo da Senoide.\n",
        "Graph.scatter(0, Max, c ='g')\n",
        "Graph.scatter(0.0665, Max, c ='g')\n",
        "\n",
        "\n",
        "# Plot do ponto minimo da Senoide. \n",
        "Graph.scatter(0.033, Min, c = 'r')\n",
        "Graph.scatter(0.1, Min, c = 'r')"
      ],
      "metadata": {
        "id": "chns5pXZTjDy",
        "colab": {
          "base_uri": "https://localhost:8080/",
          "height": 404
        },
        "outputId": "b68ceb65-2d33-4518-89c4-1c0a339dcfef"
      },
      "execution_count": 10,
      "outputs": [
        {
          "output_type": "stream",
          "name": "stdout",
          "text": [
            "\n",
            "  Funcao para encontrar o valor\n",
            "  maximo e minimo de uma funcao.\n",
            "\n",
            "  Entrada:  Valores da funcao (Y).\n",
            "  Saida:    Valor maximo e minimo de Y. \n",
            "  \n"
          ]
        },
        {
          "output_type": "execute_result",
          "data": {
            "text/plain": [
              "<matplotlib.collections.PathCollection at 0x7fe490861e20>"
            ]
          },
          "metadata": {},
          "execution_count": 10
        },
        {
          "output_type": "display_data",
          "data": {
            "text/plain": [
              "<Figure size 432x288 with 1 Axes>"
            ],
            "image/png": "[encoded data removed]"
          },
          "metadata": {
            "needs_background": "light"
          }
        }
      ]
    },
    {
      "cell_type": "markdown",
      "source": [
        "#### Questao 3.C)"
      ],
      "metadata": {
        "id": "i4VR13_YhlnY"
      }
    },
    {
      "cell_type": "code",
      "source": [
        "from numpy.core.fromnumeric import size\n",
        "def Maximum_(Lista):\n",
        "    \"\"\"\n",
        "    Funcao para encontrar o maior numero\n",
        "    de uma lista e a sua(s) posicao(oes).\n",
        "\n",
        "    Entrada: Lista.\n",
        "    Saida:   Tupla contendo o maior numero\n",
        "             da lista e sua(s) posicao(oes).\n",
        "    \"\"\"\n",
        "\n",
        "    Maior    = max(Lista)\n",
        "    Posicoes = []\n",
        "   \n",
        "    for i in range(size(Lista)):\n",
        "        if(round(Lista[i], 2) == round(Maior, 2)):\n",
        "            Posicoes.append(i)\n",
        "    \n",
        "    return (Maior, Posicoes)"
      ],
      "metadata": {
        "id": "8sqzAZ_KdnZ8"
      },
      "execution_count": 11,
      "outputs": []
    },
    {
      "cell_type": "code",
      "source": [
        "def Minimum_(Lista):\n",
        "    \"\"\"\n",
        "    Funcao para encontrar o menor numero\n",
        "    de uma lista e a sua(s) posicao(oes).\n",
        "\n",
        "    Entrada: Lista.\n",
        "    Saida:   Tupla contendo o menor numero\n",
        "             da lista e sua(s) posicao(oes).\n",
        "    \"\"\"\n",
        "\n",
        "    Menor    = min(Lista)\n",
        "    Posicoes = []\n",
        "   \n",
        "    for i in range(size(Lista)):\n",
        "        if(round(Lista[i], 2) == round(Menor, 2)):\n",
        "            Posicoes.append(i)\n",
        "    \n",
        "    return (Menor, Posicoes)"
      ],
      "metadata": {
        "id": "k4c8XZjfiUTI"
      },
      "execution_count": 12,
      "outputs": []
    },
    {
      "cell_type": "code",
      "source": [
        "# Teste da funcao.\n",
        "X, Y = Gerar_Sinal_Senoidal_(-0.0167, 0.1167) # Sinal senoidal com dois periodos.\n",
        "\n",
        "Max, Pos_max = Maximum_(Y)\n",
        "Min, Pos_min = Minimum_(Y)\n",
        "\n",
        "# Plot da funcao Senoide.\n",
        "Graph.plot(X, Y)\n",
        "Graph.axhline()   # Linha do eixo X.\n",
        "Graph.axvline()   # Linha do eixo Y.\n",
        "\n",
        "\n",
        "# Plot do ponto maximo da Senoide.\n",
        "for i in range(size(Pos_max)):\n",
        "  Graph.scatter(X[Pos_max[i]], Max, c ='g')\n",
        "\n",
        "# Plot do ponto minimo da Senoide.\n",
        "for i in range(size(Pos_min)):\n",
        "  Graph.scatter(X[Pos_min[i]], Min, c = 'r')"
      ],
      "metadata": {
        "id": "uoHDKrUpiaKB",
        "colab": {
          "base_uri": "https://localhost:8080/",
          "height": 265
        },
        "outputId": "6a4c2550-08d1-4450-f504-758cb2366b8a"
      },
      "execution_count": 13,
      "outputs": [
        {
          "output_type": "display_data",
          "data": {
            "text/plain": [
              "<Figure size 432x288 with 1 Axes>"
            ],
            "image/png": "[encoded data removed]"
          },
          "metadata": {
            "needs_background": "light"
          }
        }
      ]
    }
  ]
}