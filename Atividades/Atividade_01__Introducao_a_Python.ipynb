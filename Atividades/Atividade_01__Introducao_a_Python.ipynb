{
  "cells": [
    {
      "cell_type": "markdown",
      "metadata": {
        "id": "view-in-github",
        "colab_type": "text"
      },
      "source": [
        "<a href=\"https://colab.research.google.com/github/JoaoVictorRR-GitHub/Processamento_Digital_de_Sinais/blob/main/Atividades/Atividade_01__Introducao_a_Python.ipynb\" target=\"_parent\"><img src=\"https://colab.research.google.com/assets/colab-badge.svg\" alt=\"Open In Colab\"/></a>"
      ]
    },
    {
      "cell_type": "markdown",
      "metadata": {
        "id": "LYtksSAhHFGX"
      },
      "source": [
        "**Universidade Federal do Espírito Santo** (UFES)\n",
        "\n",
        "**Centro Universitário Norte do Espírito Santo** (CEUNES)\n",
        "\n",
        "\n",
        "---\n",
        "\n",
        "\n",
        "**Processamento Digital de Sinais**\n",
        "\n",
        "**Atividade 01:** Introdução a Python\n",
        "\n",
        "**Aluno:** João Victor do Rozário Recla"
      ]
    },
    {
      "cell_type": "markdown",
      "metadata": {
        "id": "aJ0nKCNF8wMM"
      },
      "source": [
        "# **Exercício 01 - Radianos para Graus**"
      ]
    },
    {
      "cell_type": "code",
      "execution_count": null,
      "metadata": {
        "colab": {
          "base_uri": "https://localhost:8080/"
        },
        "id": "bSO6-e8M74cO",
        "outputId": "214b2a66-7a3d-4589-a668-3017411b90c8"
      },
      "outputs": [
        {
          "name": "stdout",
          "output_type": "stream",
          "text": [
            "\n",
            "    Funcao para converter um angulo de radiano para graus.\n",
            "\n",
            "    Entrada: Angulo em radianos (Rad).\n",
            "    Saida:   Angulo em graus.\n",
            "    \n",
            "Entre com um angulo em radianos: 5\n",
            "5.00 Radianos = 286.62420382º\n",
            "\n"
          ]
        }
      ],
      "source": [
        "def RadToDegree(Rad):\n",
        "    \"\"\"\n",
        "    Funcao para converter um angulo de radiano para graus.\n",
        "\n",
        "    Entrada: Angulo em radianos (Rad).\n",
        "    Saida:   Angulo em graus.\n",
        "    \"\"\"\n",
        "    \n",
        "    return ((Rad *180.0) / 3.14)\n",
        "\n",
        "\n",
        "# Teste da Funcao\n",
        "print(RadToDegree.__doc__)\n",
        "\n",
        "Rad = float(input('Entre com um angulo em radianos: '))\n",
        "Deg = RadToDegree(Rad)\n",
        "\n",
        "print(f'{Rad:.2f} Radianos = {Deg:.8f}º\\n')"
      ]
    },
    {
      "cell_type": "markdown",
      "metadata": {
        "id": "tn4JwUMd9kY9"
      },
      "source": [
        "# **Exercício 02 - Verificar Numeros Impares**"
      ]
    },
    {
      "cell_type": "code",
      "execution_count": null,
      "metadata": {
        "colab": {
          "base_uri": "https://localhost:8080/"
        },
        "id": "OuKAdf_69jrO",
        "outputId": "8030e928-9f61-488b-f794-a99613b4e7fc"
      },
      "outputs": [
        {
          "name": "stdout",
          "output_type": "stream",
          "text": [
            "\n",
            "    Funcao para verificar se um numero eh impar.\n",
            "\n",
            "    Entrada: Numero inteiro.\n",
            "    Saida:\n",
            "        - True  (Se o numero for impar).\n",
            "        - False (Se o numero for par).\n",
            "    \n",
            "Entre com um numero inteiro: 15\n",
            "O numero 15 eh impar.\n",
            "\n"
          ]
        }
      ],
      "source": [
        "def isOdd(Numero):\n",
        "    \"\"\"\n",
        "    Funcao para verificar se um numero eh impar.\n",
        "\n",
        "    Entrada: Numero inteiro.\n",
        "    Saida:\n",
        "        - True  (Se o numero for impar).\n",
        "        - False (Se o numero for par).\n",
        "    \"\"\"\n",
        "\n",
        "    return True if((Numero % 2) != 0) else False\n",
        "\n",
        "\n",
        "# Teste da Funcao\n",
        "print(isOdd.__doc__)\n",
        "\n",
        "Numero   = int(input('Entre com um numero inteiro: '))\n",
        "eh_Impar = isOdd(Numero)\n",
        "\n",
        "if(eh_Impar == True):\n",
        "    print(f'O numero {Numero} eh impar.\\n')\n",
        "else:\n",
        "    print(f'O numero {Numero} nao eh impar.\\n')"
      ]
    },
    {
      "cell_type": "markdown",
      "metadata": {
        "id": "fFS2Y09t-Gur"
      },
      "source": [
        "# **Exercício 03 - Verificar Numeros Pares**"
      ]
    },
    {
      "cell_type": "code",
      "execution_count": null,
      "metadata": {
        "colab": {
          "base_uri": "https://localhost:8080/"
        },
        "id": "GZdjWOEz-JcK",
        "outputId": "a4e6a98a-34db-4ef9-9b5a-c8dd95ad9166"
      },
      "outputs": [
        {
          "name": "stdout",
          "output_type": "stream",
          "text": [
            "\n",
            "    Funcao para verificar se um numero eh par.\n",
            "\n",
            "    Entrada: Numero inteiro.\n",
            "    Saida:\n",
            "        - True  (Se o numero for par).\n",
            "        - False (Se o numero for impar).\n",
            "    \n",
            "Entre com um numero inteiro: 10\n",
            "O numero 10 eh par.\n",
            "\n"
          ]
        }
      ],
      "source": [
        "def isEven(Numero):\n",
        "    \"\"\"\n",
        "    Funcao para verificar se um numero eh par.\n",
        "\n",
        "    Entrada: Numero inteiro.\n",
        "    Saida:\n",
        "        - True  (Se o numero for par).\n",
        "        - False (Se o numero for impar).\n",
        "    \"\"\"\n",
        "    \n",
        "    return True if((Numero % 2) == 0) else False\n",
        "\n",
        "\n",
        "# Teste da Funcao\n",
        "print(isEven.__doc__)\n",
        "\n",
        "Numero = int(input('Entre com um numero inteiro: '))\n",
        "eh_Par = isEven(Numero)\n",
        "\n",
        "if(eh_Par == True):\n",
        "    print(f'O numero {Numero} eh par.\\n')\n",
        "else:\n",
        "    print(f'O numero {Numero} nao eh par.\\n')"
      ]
    },
    {
      "cell_type": "markdown",
      "metadata": {
        "id": "tSAeADcM-UOE"
      },
      "source": [
        "# **Exercício 04 - Calcular Fatorial**"
      ]
    },
    {
      "cell_type": "code",
      "execution_count": null,
      "metadata": {
        "colab": {
          "base_uri": "https://localhost:8080/"
        },
        "id": "dVLyYIFt-dIH",
        "outputId": "efa732b4-5d57-4501-d3ed-195ed376d905"
      },
      "outputs": [
        {
          "name": "stdout",
          "output_type": "stream",
          "text": [
            "\n",
            "    Funcao recursiva para calcular\n",
            "    o fatorial de um numero.\n",
            "\n",
            "    Entrada: Numero natural.\n",
            "    Saida:   Fatorial do Numero.\n",
            "    \n",
            "Entre com um numero natural: 15\n",
            "O Fatorial de 15 eh 1307674368000.\n",
            "\n"
          ]
        }
      ],
      "source": [
        "def Factorial(Numero):\n",
        "    \"\"\"\n",
        "    Funcao recursiva para calcular\n",
        "    o fatorial de um numero.\n",
        "\n",
        "    Entrada: Numero natural.\n",
        "    Saida:   Fatorial do Numero.\n",
        "    \"\"\"\n",
        "\n",
        "    if(Numero in range(0, 2)):\n",
        "        return 1\n",
        "    else:\n",
        "        return Numero *Factorial(Numero -1)\n",
        "\n",
        "\n",
        "# Teste da Funcao\n",
        "print(Factorial.__doc__)\n",
        "\n",
        "Numero   = int(input('Entre com um numero natural: '))\n",
        "Fatorial = Factorial(Numero)\n",
        "\n",
        "print(f'O Fatorial de {Numero} eh {Fatorial}.\\n')"
      ]
    },
    {
      "cell_type": "code",
      "execution_count": null,
      "metadata": {
        "colab": {
          "base_uri": "https://localhost:8080/"
        },
        "id": "880MJyQM-y2m",
        "outputId": "b06427a1-3b99-412a-96cc-52e739660b7d"
      },
      "outputs": [
        {
          "name": "stdout",
          "output_type": "stream",
          "text": [
            "O Fatorial de 0 eh 1.\n",
            "\n",
            "O Fatorial de 1 eh 1.\n",
            "\n",
            "O Fatorial de 2 eh 2.\n",
            "\n",
            "O Fatorial de 3 eh 6.\n",
            "\n",
            "O Fatorial de 4 eh 24.\n",
            "\n",
            "O Fatorial de 5 eh 120.\n",
            "\n",
            "O Fatorial de 6 eh 720.\n",
            "\n"
          ]
        }
      ],
      "source": [
        "# Obs.: Executar o codigo acima pelo menos uma vez.\n",
        "for Numero in range(0, 7):\n",
        "  print(f'O Fatorial de {Numero} eh {Factorial(Numero)}.\\n')"
      ]
    },
    {
      "cell_type": "markdown",
      "metadata": {
        "id": "Bz3RjHO2_wnI"
      },
      "source": [
        "# **Exercício 05 - Numeros Naturais**"
      ]
    },
    {
      "cell_type": "code",
      "execution_count": null,
      "metadata": {
        "colab": {
          "base_uri": "https://localhost:8080/"
        },
        "id": "CsxWiAce_4yT",
        "outputId": "f1efe4d5-260a-464d-fd4f-5720b0d47341"
      },
      "outputs": [
        {
          "name": "stdout",
          "output_type": "stream",
          "text": [
            "\n",
            "    Funcao para imprimir os\n",
            "    numeros naturais de 0 ate N.\n",
            "\n",
            "    Entrada: Numero natural.\n",
            "    Saida:   None.\n",
            "    \n",
            "Entre com um numero natural: 5\n",
            "\n",
            "Os numeros naturais de 0 ate 5 sao:\n",
            "[ 0 1 2 3 4 ]\n",
            "\n"
          ]
        }
      ],
      "source": [
        "def naturalNumbers(Numero):\n",
        "    \"\"\"\n",
        "    Funcao para imprimir os\n",
        "    numeros naturais de 0 ate N.\n",
        "\n",
        "    Entrada: Numero natural.\n",
        "    Saida:   None.\n",
        "    \"\"\"\n",
        "\n",
        "    print(\"[\", end= \" \")\n",
        "    for i in range(0, Numero):\n",
        "        print(i, end= \" \")\n",
        "    print(\"]\\n\")\n",
        "\n",
        "\n",
        "# Teste da Funcao\n",
        "print(naturalNumbers.__doc__)\n",
        "\n",
        "Numero = int(input('Entre com um numero natural: '))\n",
        "\n",
        "print(f'\\nOs numeros naturais de 0 ate {Numero} sao:')\n",
        "naturalNumbers(Numero)"
      ]
    },
    {
      "cell_type": "markdown",
      "metadata": {
        "id": "af7Gz8iZARVd"
      },
      "source": [
        "# **Exercício 06 - Encontrar Maior Elemento**"
      ]
    },
    {
      "cell_type": "code",
      "execution_count": null,
      "metadata": {
        "colab": {
          "background_save": true,
          "base_uri": "https://localhost:8080/"
        },
        "id": "b19yf-IGAYNM",
        "outputId": "da14c444-bb6b-4c06-b0a7-3e29288e5ae6"
      },
      "outputs": [
        {
          "name": "stdout",
          "output_type": "stream",
          "text": [
            "\n",
            "    Funcao para encontrar o maior numero\n",
            "    de uma lista e a sua(s) posicao(oes).\n",
            "\n",
            "    Entrada: Lista com 10 numeros reais.\n",
            "    Saida:   Tupla contendo o maior numero da lista e sua(s) posicao(oes).\n",
            "    \n"
          ]
        }
      ],
      "source": [
        "def Maximum(Lista):\n",
        "    \"\"\"\n",
        "    Funcao para encontrar o maior numero\n",
        "    de uma lista e a sua(s) posicao(oes).\n",
        "\n",
        "    Entrada: Lista com 10 numeros reais.\n",
        "    Saida:   Tupla contendo o maior numero da lista e sua(s) posicao(oes).\n",
        "    \"\"\"\n",
        "\n",
        "    Maior    = max(Lista)\n",
        "    Posicoes = []\n",
        "   \n",
        "    for i in range(0, 10):\n",
        "        if(Lista[i] == Maior):\n",
        "            Posicoes.append(i)\n",
        "    \n",
        "    return (Maior, Posicoes)\n",
        "\n",
        "\n",
        "# Teste da Funcao\n",
        "print(Maximum.__doc__)\n",
        "\n",
        "Numero = []\n",
        "for i in range(0, 10):\n",
        "    Numero.append(float(input(f'Insira o {i+1:02d}º numero real da lista: ')))\n",
        "\n",
        "Maior, Posicoes = Maximum(Numero)\n",
        "print(f'\\nO maior numero da lista eh: {Maior}.')\n",
        "print(f'A(s) posicao(oes) do maior numero na lista eh(sao):\\n', Posicoes, \"\\n\")"
      ]
    },
    {
      "cell_type": "code",
      "execution_count": null,
      "metadata": {
        "id": "rCo3jOw6Aupl"
      },
      "outputs": [],
      "source": [
        "# Obs.: Executar o codigo acima pelo menos uma vez.\n",
        "\n",
        "Numero_01 = [1, 2, 3, 4, 5, 1, 1, 2, 3, 5]\n",
        "Numero_02 = [10, 5, 8, 8, 7, 10, 1, 9, 10, 4]\n",
        "Numero_03 = [10, 2, 1, 1, 1, 1, 1, 10.0, 9.1, 9.99]\n",
        "\n",
        "Maior, Posicoes = Maximum(Numero_01)\n",
        "print(f'\\nO maior numero da lista eh: {Maior}.')\n",
        "print(f'A(s) posicao(oes) do maior numero na lista eh(sao):\\n', Posicoes, \"\\n\")\n",
        "\n",
        "Maior, Posicoes = Maximum(Numero_02)\n",
        "print(f'\\nO maior numero da lista eh: {Maior}.')\n",
        "print(f'A(s) posicao(oes) do maior numero na lista eh(sao):\\n', Posicoes, \"\\n\")\n",
        "\n",
        "Maior, Posicoes = Maximum(Numero_03)\n",
        "print(f'\\nO maior numero da lista eh: {Maior}.')\n",
        "print(f'A(s) posicao(oes) do maior numero na lista eh(sao):\\n', Posicoes, \"\\n\")"
      ]
    },
    {
      "cell_type": "markdown",
      "metadata": {
        "id": "rcNDihgACL4f"
      },
      "source": [
        "# **Exercício 07 - Encontrar Menor Elemento**"
      ]
    },
    {
      "cell_type": "code",
      "execution_count": null,
      "metadata": {
        "colab": {
          "base_uri": "https://localhost:8080/"
        },
        "id": "lEVCeLnXCOEx",
        "outputId": "979d243e-3db2-42c9-c29f-cb9faf6b25fd"
      },
      "outputs": [
        {
          "name": "stdout",
          "output_type": "stream",
          "text": [
            "\n",
            "    Funcao para encontrar o menor numero\n",
            "    de uma lista e a sua(s) posicao(oes).\n",
            "\n",
            "    Entrada: Lista com 10 numeros reais.\n",
            "    Saida:   Tupla contendo o menor numero da lista e sua(s) posicao(oes).\n",
            "    \n",
            "Insira o 01º numero real da lista: 1\n",
            "Insira o 02º numero real da lista: 2\n",
            "Insira o 03º numero real da lista: 3\n",
            "Insira o 04º numero real da lista: 4\n",
            "Insira o 05º numero real da lista: 5\n",
            "Insira o 06º numero real da lista: 1\n",
            "Insira o 07º numero real da lista: 1\n",
            "Insira o 08º numero real da lista: 1\n",
            "Insira o 09º numero real da lista: 1\n",
            "Insira o 10º numero real da lista: 5\n",
            "\n",
            "O menor numero da lista eh: 1.0.\n",
            "A(s) posicao(oes) do menor numero na lista eh(sao):\n",
            " [0, 5, 6, 7, 8] \n",
            "\n"
          ]
        }
      ],
      "source": [
        "def Minimum(Lista):\n",
        "    \"\"\"\n",
        "    Funcao para encontrar o menor numero\n",
        "    de uma lista e a sua(s) posicao(oes).\n",
        "\n",
        "    Entrada: Lista com 10 numeros reais.\n",
        "    Saida:   Tupla contendo o menor numero da lista e sua(s) posicao(oes).\n",
        "    \"\"\"\n",
        "\n",
        "    Menor    = min(Lista)\n",
        "    Posicoes = []\n",
        "   \n",
        "    for i in range(0, 10):\n",
        "        if(Lista[i] == Menor):\n",
        "            Posicoes.append(i)\n",
        "    \n",
        "    return (Menor, Posicoes)\n",
        "\n",
        "\n",
        "# Teste da Funcao\n",
        "print(Minimum.__doc__)\n",
        "\n",
        "Numero = []\n",
        "for i in range(0, 10):\n",
        "    Numero.append(float(input(f'Insira o {i+1:02d}º numero real da lista: ')))\n",
        "\n",
        "Menor, Posicoes = Minimum(Numero)\n",
        "print(f'\\nO menor numero da lista eh: {Menor}.')\n",
        "print(f'A(s) posicao(oes) do menor numero na lista eh(sao):\\n', Posicoes, \"\\n\")"
      ]
    },
    {
      "cell_type": "code",
      "execution_count": null,
      "metadata": {
        "colab": {
          "base_uri": "https://localhost:8080/"
        },
        "id": "5fPynt5LCijU",
        "outputId": "d2f10cdb-586e-4840-a67b-82a528980a6b"
      },
      "outputs": [
        {
          "name": "stdout",
          "output_type": "stream",
          "text": [
            "\n",
            "O menor numero da lista eh: 0.2.\n",
            "A(s) posicao(oes) do menor numero na lista eh(sao):\n",
            " [7] \n",
            "\n",
            "\n",
            "O menor numero da lista eh: 0.7.\n",
            "A(s) posicao(oes) do menor numero na lista eh(sao):\n",
            " [4] \n",
            "\n",
            "\n",
            "O menor numero da lista eh: 0.01.\n",
            "A(s) posicao(oes) do menor numero na lista eh(sao):\n",
            " [6] \n",
            "\n"
          ]
        }
      ],
      "source": [
        "# Obs.: Executar o codigo acima pelo menos uma vez.\n",
        "\n",
        "Numero_01 = [1, 2, 3, 4, 5, 1, 1, 0.2, 3, 5]\n",
        "Numero_02 = [10, 5, 8, 8, 0.7, 10, 1, 9, 10, 4]\n",
        "Numero_03 = [10, 2, 1, 0.1, 1, .1, .01, 10.0, 9.1, 9.99]\n",
        "\n",
        "Menor, Posicoes = Minimum(Numero_01)\n",
        "print(f'\\nO menor numero da lista eh: {Menor}.')\n",
        "print(f'A(s) posicao(oes) do menor numero na lista eh(sao):\\n', Posicoes, \"\\n\")\n",
        "\n",
        "Menor, Posicoes = Minimum(Numero_02)\n",
        "print(f'\\nO menor numero da lista eh: {Menor}.')\n",
        "print(f'A(s) posicao(oes) do menor numero na lista eh(sao):\\n', Posicoes, \"\\n\")\n",
        "\n",
        "Menor, Posicoes = Minimum(Numero_03)\n",
        "print(f'\\nO menor numero da lista eh: {Menor}.')\n",
        "print(f'A(s) posicao(oes) do menor numero na lista eh(sao):\\n', Posicoes, \"\\n\")"
      ]
    },
    {
      "cell_type": "markdown",
      "metadata": {
        "id": "-vYCV3vkC9oe"
      },
      "source": [
        "# **Exercício 08 - Encontrar Sequencia Periodica**"
      ]
    },
    {
      "cell_type": "code",
      "execution_count": null,
      "metadata": {
        "colab": {
          "base_uri": "https://localhost:8080/"
        },
        "id": "s_YiidQoDPNG",
        "outputId": "d041cb10-7b59-4969-8ff6-595cd83cab8e"
      },
      "outputs": [
        {
          "name": "stdout",
          "output_type": "stream",
          "text": [
            "\n",
            "    Funcao para encontrar o inicio de uma sequencia\n",
            "    periodica, em um lista, e exibir a sua sequencia.\n",
            "\n",
            "    Entrada: Lista com 30 numeros reais.\n",
            "    Saida:\n",
            "        - Tupla contendo a posicao de inicio da sequenciaa e a sequencia.\n",
            "        - None (Caso a lista nao seja uma sequencia periodica).\n",
            "    \n",
            "Insira o 01º numero real da lista: 1\n",
            "Insira o 02º numero real da lista: 2\n",
            "Insira o 03º numero real da lista: 3\n",
            "Insira o 04º numero real da lista: 4\n",
            "Insira o 05º numero real da lista: 5\n",
            "Insira o 06º numero real da lista: 1\n",
            "Insira o 07º numero real da lista: 1\n",
            "Insira o 08º numero real da lista: 1\n",
            "Insira o 09º numero real da lista: 2\n",
            "Insira o 10º numero real da lista: 1\n",
            "Insira o 11º numero real da lista: 1\n",
            "Insira o 12º numero real da lista: 1\n",
            "Insira o 13º numero real da lista: 2\n",
            "Insira o 14º numero real da lista: 1\n",
            "Insira o 15º numero real da lista: 1\n",
            "Insira o 16º numero real da lista: 1\n",
            "Insira o 17º numero real da lista: 2\n",
            "Insira o 18º numero real da lista: 1\n",
            "Insira o 19º numero real da lista: 1\n",
            "Insira o 20º numero real da lista: 1\n",
            "Insira o 21º numero real da lista: 2\n",
            "Insira o 22º numero real da lista: 1\n",
            "Insira o 23º numero real da lista: 1\n",
            "Insira o 24º numero real da lista: 1\n",
            "Insira o 25º numero real da lista: 2\n",
            "Insira o 26º numero real da lista: 1\n",
            "Insira o 27º numero real da lista: 1\n",
            "Insira o 28º numero real da lista: 1\n",
            "Insira o 29º numero real da lista: 2\n",
            "Insira o 30º numero real da lista: 1\n",
            "\n",
            "A posicao de inicio da sequencia periodica eh: 6.\n",
            "A sequencia periodica da lista eh:\n",
            " [1.0, 1.0, 2.0, 1.0] \n",
            "\n"
          ]
        }
      ],
      "source": [
        "def Period(Lista, Tamanho = 30):\n",
        "    \"\"\"\n",
        "    Funcao para encontrar o inicio de uma sequencia\n",
        "    periodica, em um lista, e exibir a sua sequencia.\n",
        "\n",
        "    Entrada: Lista com 30 numeros reais.\n",
        "    Saida:\n",
        "        - Tupla contendo a posicao de inicio da sequenciaa e a sequencia.\n",
        "        - None (Caso a lista nao seja uma sequencia periodica).\n",
        "    \"\"\"\n",
        "\n",
        "    Inicio     = None\n",
        "    Sequencia  = []\n",
        "    Maior_freq = 0\n",
        "   \n",
        "    # Loop para controlar o inicio da sequencia.\n",
        "    for i in range(0, Tamanho):\n",
        "\n",
        "        # Loop para controlar a janela de sequencias.\n",
        "        for Periodo in range(1, (Tamanho//2) +1):\n",
        "            \n",
        "            Freq            = 0\n",
        "            Eh_Periodico    = False\n",
        "            Sequencia_local = []\n",
        "\n",
        "            # Loop para contar a Frequencia dos elementos.\n",
        "            for j in range(i, (Tamanho-Periodo), Periodo):\n",
        "\n",
        "                # VERIFICA SE DUAS JANELAS (De mesmo tamanho) SAO IGUAIS.\n",
        "                if(Lista[j:(j +Periodo)] == Lista[(j +Periodo):(j +(2*Periodo))]):\n",
        "                    \n",
        "                    Freq += 1\n",
        "                    Eh_Periodico    = True\n",
        "                    Sequencia_local = Lista[j:(j +Periodo)]\n",
        "                else:\n",
        "\n",
        "                    Eh_Periodico = False\n",
        "                    break\n",
        "\n",
        "            # VERIFICA SE A JANELA FOI PERIODICA ATE O FINAL.\n",
        "            if(Eh_Periodico):\n",
        "                if(Freq >= Maior_freq):\n",
        "\n",
        "                    Inicio     = i\n",
        "                    Maior_freq = Freq\n",
        "                    Sequencia  = Sequencia_local\n",
        "\n",
        "    return (Inicio, Sequencia)\n",
        "\n",
        "\n",
        "#Teste da Funcao\"\n",
        "print(Period.__doc__)\n",
        "\n",
        "Numero = []\n",
        "for i in range(0, 30):\n",
        "    Numero.append(float(input(f'Insira o {i+1:02d}º numero real da lista: ')))\n",
        "\n",
        "Inicio, Sequencia = Period(Numero)\n",
        "print(f'\\nA posicao de inicio da sequencia periodica eh: {Inicio}.')\n",
        "print(f'A sequencia periodica da lista eh:\\n', Sequencia, \"\\n\")\n",
        "\n"
      ]
    },
    {
      "cell_type": "code",
      "execution_count": null,
      "metadata": {
        "colab": {
          "base_uri": "https://localhost:8080/"
        },
        "id": "TLpucwBHEQwB",
        "outputId": "e9a3c16b-c831-4120-f7e3-c512954b2d5a"
      },
      "outputs": [
        {
          "name": "stdout",
          "output_type": "stream",
          "text": [
            "\n",
            "A posicao de inicio da sequencia periodica eh: 12.\n",
            "A sequencia periodica da lista eh:\n",
            " [1, 1, 2] \n",
            "\n"
          ]
        }
      ],
      "source": [
        "# Obs.: Executar o codigo acima pelo menos uma vez.\n",
        "\n",
        "# Numero = [5, 4, 3, 2, 1, 1, 2, 3, 4, 5, 1, 2, 3, 4, 5, 1, 2, 3, 4, 5, 1, 2, 3, 4, 5, 1, 2, 3, 4, 5]\n",
        "# Numero = [1, 1, 4, 9, 2, 6, 1, 2, 3, 1, 2, 3, 1, 2, 3, 1, 2, 3, 1, 2, 3, 1, 2, 3, 1, 2, 3, 1, 2, 3]\n",
        "# Numero = [1, 1, 1, 1, 5, 6, 7, 8, 9, 10, 1, 1, 1, 1, 5, 6, 7, 8, 9, 10, 1, 1, 1, 1, 5, 6, 7, 8, 9, 10]\n",
        "# Numero = [15, 15, 15, 14, 15, 15, 15, 15, 14, 15, 15, 15, 15, 14, 15, 15, 15, 15, 14, 15, 15, 15, 15, 14, 15, 15, 15, 15, 14, 15]\n",
        "# Numero = [1, 2, 3, 4, 5, 1, 2, 3, 4, 5, 1, 2, 3, 4, 5, 1, 2, 3, 4, 5, 1, 2, 3, 4, 5, 1, 2, 3, 4, 5]\n",
        "Numero = [1, 2, 3, 4, 5, 6, 1, 2, 4, 5, 3, 6, 1, 1, 2, 1, 1, 2, 1, 1, 2, 1, 1, 2, 1, 1, 2, 1, 1, 2]\n",
        "\n",
        "Inicio, Sequencia = Period(Numero)\n",
        "print(f'\\nA posicao de inicio da sequencia periodica eh: {Inicio}.')\n",
        "print(f'A sequencia periodica da lista eh:\\n', Sequencia, \"\\n\")"
      ]
    }
  ],
  "metadata": {
    "colab": {
      "collapsed_sections": [
        "aJ0nKCNF8wMM",
        "tn4JwUMd9kY9",
        "fFS2Y09t-Gur",
        "tSAeADcM-UOE",
        "Bz3RjHO2_wnI",
        "af7Gz8iZARVd",
        "rcNDihgACL4f",
        "-vYCV3vkC9oe"
      ],
      "toc_visible": true,
      "provenance": [],
      "include_colab_link": true
    },
    "kernelspec": {
      "display_name": "Python 3",
      "name": "python3"
    },
    "language_info": {
      "name": "python"
    }
  },
  "nbformat": 4,
  "nbformat_minor": 0
}